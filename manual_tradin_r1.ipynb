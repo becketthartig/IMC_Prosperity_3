{
 "cells": [
  {
   "cell_type": "code",
   "execution_count": 3,
   "metadata": {},
   "outputs": [],
   "source": [
    "# Starting prices based on seashells\n",
    "\n",
    "seashells = 1\n",
    "seashells_to_sillicon_nuggets = 0.64\n",
    "seashells_to_pizza = 1.98\n",
    "seashells_to_snowballs = 1.34\n",
    "\n",
    "# Starting prices based on sillicon nuggets\n",
    "sillicon_nugets = 1\n",
    "sillicon_nuggets_to_seashells = 1.49\n",
    "sillicon_nugets_to_pizza = 3.1\n",
    "sillicon_nugets_to_snowballs = 1.95\n",
    "\n",
    "# Starting prices based on pizza\n",
    "pizza = 1\n",
    "pizza_to_seashells = 0.48\n",
    "pizza_to_sillicon_nuggets = 0.31\n",
    "pizza_to_snowballs = 0.7\n",
    "\n",
    "# Starting prices based on snowballs\n",
    "snowballs = 1\n",
    "snowballs_to_seashells = 0.72\n",
    "snowballs_to_sillicon_nuggets = 0.52\n",
    "snowballs_to_pizza = 1.45"
   ]
  },
  {
   "cell_type": "code",
   "execution_count": 6,
   "metadata": {},
   "outputs": [],
   "source": [
    "graph = {\n",
    "    'seashells': {'sillicon_nugets': 0.64, 'pizza': 1.98, 'snowballs': 1.34},\n",
    "    'sillicon_nugets': {'seashells': 1.49, 'pizza': 3.1, 'snowballs': 1.95},\n",
    "    'pizza': {'seashells': 0.48, 'sillicon_nugets': 0.31, 'snowballs': 0.7},\n",
    "    'snowballs': {'seashells': 0.72, 'sillicon_nugets': 0.52, 'pizza': 1.45}\n",
    "    }\n"
   ]
  },
  {
   "cell_type": "code",
   "execution_count": 52,
   "metadata": {},
   "outputs": [
    {
     "name": "stdout",
     "output_type": "stream",
     "text": [
      "Path: ['seashells', 'snowballs', 'sillicon_nuggets', 'pizza', 'snowballs', 'seashells']\n",
      "Money at the end: 544340.16\n",
      "Profit: 44340.16000000003\n"
     ]
    }
   ],
   "source": [
    "from itertools import product\n",
    "\n",
    "start = 'seashells'\n",
    "end = 'seashells'\n",
    "best_path = []\n",
    "initial_money = 500000\n",
    "best_profit = 0\n",
    "\n",
    "for path in product(graph.keys(), repeat=4):\n",
    "    full_path = [start] + list(path) + [end]\n",
    "    money = initial_money\n",
    "    valid = True\n",
    "    \n",
    "    for i in range(len(full_path) - 1):\n",
    "        src, dst = full_path[i], full_path[i+1]\n",
    "        if dst in graph[src]:\n",
    "            rate = graph[src][dst]\n",
    "            money *= rate\n",
    "        else:\n",
    "            valid = False\n",
    "            break\n",
    "        \n",
    "    if valid and money > best_profit:\n",
    "        best_profit = money\n",
    "        best_path = full_path\n",
    "        \n",
    "print(f'Path: {best_path}')\n",
    "print(f'Money at the end: {best_profit}')\n",
    "print(f'Profit: {best_profit - initial_money}')"
   ]
  },
  {
   "cell_type": "code",
   "execution_count": 54,
   "metadata": {},
   "outputs": [
    {
     "data": {
      "text/plain": [
       "8.868032000000007"
      ]
     },
     "execution_count": 54,
     "metadata": {},
     "output_type": "execute_result"
    }
   ],
   "source": [
    "((best_profit - initial_money)/initial_money)*100"
   ]
  },
  {
   "cell_type": "code",
   "execution_count": 15,
   "metadata": {},
   "outputs": [
    {
     "data": {
      "text/plain": [
       "544340.16"
      ]
     },
     "execution_count": 15,
     "metadata": {},
     "output_type": "execute_result"
    }
   ],
   "source": [
    "# Hardcoded calculation for the best path\n",
    "initial_money * seashells_to_snowballs * snowballs_to_sillicon_nuggets * sillicon_nugets_to_pizza * pizza_to_snowballs * snowballs_to_seashells"
   ]
  },
  {
   "cell_type": "code",
   "execution_count": 57,
   "metadata": {},
   "outputs": [
    {
     "name": "stdout",
     "output_type": "stream",
     "text": [
      "   Trades                                               Path  Final_Seashells  \\\n",
      "0       5  seashells -> snowballs -> sillicon_nuggets -> ...        544340.16   \n",
      "\n",
      "     Profit  \n",
      "0  44340.16  \n"
     ]
    }
   ],
   "source": [
    "import math\n",
    "import pandas as pd\n",
    "\n",
    "# Graph with exchange rates\n",
    "graph = {\n",
    "    'seashells': {'sillicon_nuggets': 0.64, 'pizza': 1.98, 'snowballs': 1.34},\n",
    "    'sillicon_nuggets': {'seashells': 1.49, 'pizza': 3.1, 'snowballs': 1.95},\n",
    "    'pizza': {'seashells': 0.48, 'sillicon_nuggets': 0.31, 'snowballs': 0.7},\n",
    "    'snowballs': {'seashells': 0.72, 'sillicon_nuggets': 0.52, 'pizza': 1.45}\n",
    "}\n",
    "\n",
    "currencies = list(graph.keys())\n",
    "initial_money = 500_000\n",
    "max_trades = 5\n",
    "start = 'seashells'\n",
    "\n",
    "# Build list of edges with weights = -log(rate)\n",
    "edges = []\n",
    "for src in graph:\n",
    "    for dst in graph[src]:\n",
    "        rate = graph[src][dst]\n",
    "        weight = -math.log(rate)\n",
    "        edges.append((src, dst, weight))\n",
    "\n",
    "# Bellman-Ford: distance[currency][step] = best total weight to reach it in 'step' trades\n",
    "distance = {cur: [float('inf')] * (max_trades + 1) for cur in currencies}\n",
    "prev_node = {cur: [None] * (max_trades + 1) for cur in currencies}\n",
    "\n",
    "distance[start][0] = 0  # Starting point: 0 cost at 0 trades\n",
    "\n",
    "# Bellman-Ford over a limited number of steps (trades)\n",
    "for k in range(1, max_trades + 1):\n",
    "    for u, v, weight in edges:\n",
    "        if distance[u][k - 1] + weight < distance[v][k]:\n",
    "            distance[v][k] = distance[u][k - 1] + weight\n",
    "            prev_node[v][k] = u\n",
    "\n",
    "# Reconstruct the best profit path ending in 'seashells'\n",
    "best_profit = -float('inf')\n",
    "best_k = None\n",
    "\n",
    "for k in range(1, max_trades + 1):\n",
    "    if distance[start][k] < float('inf'):\n",
    "        # Get profit by reversing the log\n",
    "        profit = initial_money * math.exp(-distance[start][k])\n",
    "        if profit > best_profit:\n",
    "            best_profit = profit\n",
    "            best_k = k\n",
    "\n",
    "# Reconstruct path\n",
    "path = []\n",
    "cur = start\n",
    "for i in range(best_k, 0, -1):\n",
    "    path.append(cur)\n",
    "    cur = prev_node[cur][i]\n",
    "path.append(start)\n",
    "path.reverse()\n",
    "\n",
    "# Format result\n",
    "result = {\n",
    "    'Trades': best_k,\n",
    "    'Path': ' -> '.join(path),\n",
    "    'Final_Seashells': round(best_profit, 2),\n",
    "    'Profit': round(best_profit - initial_money, 2)\n",
    "}\n",
    "\n",
    "# Show result in DataFrame format\n",
    "df_result = pd.DataFrame([result])\n",
    "print(df_result)\n"
   ]
  },
  {
   "cell_type": "code",
   "execution_count": 62,
   "metadata": {},
   "outputs": [
    {
     "name": "stdout",
     "output_type": "stream",
     "text": [
      "seashells -> snowballs -> sillicon_nuggets -> pizza -> snowballs -> seashells\n"
     ]
    }
   ],
   "source": [
    "path = df_result['Path']\n",
    "\n",
    "print(path.iloc[0])"
   ]
  },
  {
   "cell_type": "code",
   "execution_count": null,
   "metadata": {},
   "outputs": [],
   "source": []
  }
 ],
 "metadata": {
  "kernelspec": {
   "display_name": "base",
   "language": "python",
   "name": "python3"
  },
  "language_info": {
   "codemirror_mode": {
    "name": "ipython",
    "version": 3
   },
   "file_extension": ".py",
   "mimetype": "text/x-python",
   "name": "python",
   "nbconvert_exporter": "python",
   "pygments_lexer": "ipython3",
   "version": "3.11.8"
  }
 },
 "nbformat": 4,
 "nbformat_minor": 2
}
